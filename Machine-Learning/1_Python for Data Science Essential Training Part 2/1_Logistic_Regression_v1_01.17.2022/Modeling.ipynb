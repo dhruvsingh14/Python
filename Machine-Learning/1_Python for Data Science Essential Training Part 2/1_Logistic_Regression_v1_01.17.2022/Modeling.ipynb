{
 "cells": [
  {
   "cell_type": "markdown",
   "metadata": {},
   "source": [
    "#### Sr. Engineer: Dhruv Singh <br> Project Name: Success Classifier <br> Phase: Modelling <br> Date Updated: 01/17/2022"
   ]
  },
  {
   "cell_type": "markdown",
   "metadata": {},
   "source": [
    "## Regression Models: Logistic regression"
   ]
  },
  {
   "cell_type": "code",
   "execution_count": 1,
   "metadata": {},
   "outputs": [],
   "source": [
    "import numpy as np\n",
    "import pandas as pd\n",
    "import seaborn as sb\n",
    "import matplotlib.pyplot as plt\n",
    "import sklearn\n",
    "\n",
    "from pandas import Series, DataFrame\n",
    "from pylab import rcParams\n",
    "from sklearn import preprocessing"
   ]
  },
  {
   "cell_type": "code",
   "execution_count": 2,
   "metadata": {},
   "outputs": [],
   "source": [
    "from sklearn.linear_model import LogisticRegression\n",
    "from sklearn.model_selection import train_test_split\n",
    "from sklearn.model_selection import cross_val_predict\n",
    "\n",
    "from sklearn import metrics\n",
    "from sklearn.metrics import classification_report\n",
    "from sklearn.metrics import confusion_matrix\n",
    "from sklearn.metrics import precision_score, recall_score"
   ]
  },
  {
   "cell_type": "code",
   "execution_count": 3,
   "metadata": {},
   "outputs": [],
   "source": [
    "%matplotlib inline\n",
    "rcParams['figure.figsize'] = 5, 4\n",
    "sb.set_style('whitegrid')"
   ]
  },
  {
   "cell_type": "markdown",
   "metadata": {},
   "source": [
    "## Logistic regression on the DOES dataset"
   ]
  },
  {
   "cell_type": "code",
   "execution_count": 4,
   "metadata": {},
   "outputs": [],
   "source": [
    "time_cols = ['ActualstartDate', 'ActualEndDate']\n",
    "does_training = pd.read_csv('1_readonly/Services.csv', parse_dates = time_cols)"
   ]
  },
  {
   "cell_type": "code",
   "execution_count": 5,
   "metadata": {},
   "outputs": [
    {
     "name": "stdout",
     "output_type": "stream",
     "text": [
      "   StateId                                   ProgramTitle  Age_AtReg  \\\n",
      "0       20  Transitional Employment Program (Way to Work)         40   \n",
      "1       20  Transitional Employment Program (Way to Work)         40   \n",
      "2       34                      DC Infrastructure Academy         50   \n",
      "3       34  Transitional Employment Program (Way to Work)         50   \n",
      "4       58         Title I - Workforce Development (WIOA)         53   \n",
      "\n",
      "   Disability  Gender  CitizenStatus  EducationLevel  Race_Hispanic  \\\n",
      "0           0       1              1              11              0   \n",
      "1           0       1              1              11              0   \n",
      "2           0       1              1              14              0   \n",
      "3           0       1              1              14              0   \n",
      "4           0       1              1              14              0   \n",
      "\n",
      "   Race_NativeAmerican  Race_Asian  ...  Race_White  ActualstartDate  \\\n",
      "0                    0           0  ...           0       2018-03-23   \n",
      "1                    0           0  ...           0       2019-10-25   \n",
      "2                    0           0  ...           0       2019-08-27   \n",
      "3                    0           0  ...           0       2012-07-20   \n",
      "4                    0           0  ...           0       2016-07-21   \n",
      "\n",
      "   ActualEndDate         EmpName Employed Length  StartMonth  StartYear  \\\n",
      "0     2018-03-23  Helix Electric        1      0           3       2018   \n",
      "1     2019-10-25  Helix Electric        1      0          10       2019   \n",
      "2     2019-08-28               0        0      1           8       2019   \n",
      "3     2012-07-20               0        0      0           7       2012   \n",
      "4     2016-07-21               0        0      0           7       2016   \n",
      "\n",
      "   EndMonth  EndYear  \n",
      "0         3     2018  \n",
      "1        10     2019  \n",
      "2         8     2019  \n",
      "3         7     2012  \n",
      "4         7     2016  \n",
      "\n",
      "[5 rows x 22 columns]\n"
     ]
    }
   ],
   "source": [
    "print(does_training.head())"
   ]
  },
  {
   "cell_type": "code",
   "execution_count": 6,
   "metadata": {},
   "outputs": [
    {
     "data": {
      "text/plain": [
       "StateId                          int64\n",
       "ProgramTitle                    object\n",
       "Age_AtReg                        int64\n",
       "Disability                       int64\n",
       "Gender                           int64\n",
       "CitizenStatus                    int64\n",
       "EducationLevel                   int64\n",
       "Race_Hispanic                    int64\n",
       "Race_NativeAmerican              int64\n",
       "Race_Asian                       int64\n",
       "Race_AfricanAmerican             int64\n",
       "Race_PacificIslander             int64\n",
       "Race_White                       int64\n",
       "ActualstartDate         datetime64[ns]\n",
       "ActualEndDate           datetime64[ns]\n",
       "EmpName                         object\n",
       "Employed                         int64\n",
       "Length                           int64\n",
       "StartMonth                       int64\n",
       "StartYear                        int64\n",
       "EndMonth                         int64\n",
       "EndYear                          int64\n",
       "dtype: object"
      ]
     },
     "execution_count": 6,
     "metadata": {},
     "output_type": "execute_result"
    }
   ],
   "source": [
    "does_training.dtypes"
   ]
  },
  {
   "cell_type": "code",
   "execution_count": 7,
   "metadata": {},
   "outputs": [
    {
     "data": {
      "text/plain": [
       "Index(['StateId', 'ProgramTitle', 'Age_AtReg', 'Disability', 'Gender',\n",
       "       'CitizenStatus', 'EducationLevel', 'Race_Hispanic',\n",
       "       'Race_NativeAmerican', 'Race_Asian', 'Race_AfricanAmerican',\n",
       "       'Race_PacificIslander', 'Race_White', 'ActualstartDate',\n",
       "       'ActualEndDate', 'EmpName', 'Employed', 'Length', 'StartMonth',\n",
       "       'StartYear', 'EndMonth', 'EndYear'],\n",
       "      dtype='object')"
      ]
     },
     "execution_count": 7,
     "metadata": {},
     "output_type": "execute_result"
    }
   ],
   "source": [
    "does_training.columns"
   ]
  },
  {
   "cell_type": "code",
   "execution_count": 8,
   "metadata": {},
   "outputs": [],
   "source": [
    "does_training = does_training[['Age_AtReg', 'Disability', 'Gender', 'CitizenStatus', 'EducationLevel', 'Race_Hispanic', 'Race_NativeAmerican', 'Race_Asian', 'Race_AfricanAmerican', 'Race_PacificIslander', 'Race_White', 'Employed']]"
   ]
  },
  {
   "cell_type": "code",
   "execution_count": 9,
   "metadata": {},
   "outputs": [
    {
     "data": {
      "text/plain": [
       "Index(['Age_AtReg', 'Disability', 'Gender', 'CitizenStatus', 'EducationLevel',\n",
       "       'Race_Hispanic', 'Race_NativeAmerican', 'Race_Asian',\n",
       "       'Race_AfricanAmerican', 'Race_PacificIslander', 'Race_White',\n",
       "       'Employed'],\n",
       "      dtype='object')"
      ]
     },
     "execution_count": 9,
     "metadata": {},
     "output_type": "execute_result"
    }
   ],
   "source": [
    "does_training.columns"
   ]
  },
  {
   "cell_type": "code",
   "execution_count": 10,
   "metadata": {},
   "outputs": [],
   "source": [
    "# saving out a copy of the dataset\n",
    "does_training.to_csv('2_data/services_cleaned.csv')"
   ]
  },
  {
   "cell_type": "code",
   "execution_count": 11,
   "metadata": {},
   "outputs": [
    {
     "name": "stdout",
     "output_type": "stream",
     "text": [
      "<class 'pandas.core.frame.DataFrame'>\n",
      "RangeIndex: 38263 entries, 0 to 38262\n",
      "Data columns (total 12 columns):\n",
      " #   Column                Non-Null Count  Dtype\n",
      "---  ------                --------------  -----\n",
      " 0   Age_AtReg             38263 non-null  int64\n",
      " 1   Disability            38263 non-null  int64\n",
      " 2   Gender                38263 non-null  int64\n",
      " 3   CitizenStatus         38263 non-null  int64\n",
      " 4   EducationLevel        38263 non-null  int64\n",
      " 5   Race_Hispanic         38263 non-null  int64\n",
      " 6   Race_NativeAmerican   38263 non-null  int64\n",
      " 7   Race_Asian            38263 non-null  int64\n",
      " 8   Race_AfricanAmerican  38263 non-null  int64\n",
      " 9   Race_PacificIslander  38263 non-null  int64\n",
      " 10  Race_White            38263 non-null  int64\n",
      " 11  Employed              38263 non-null  int64\n",
      "dtypes: int64(12)\n",
      "memory usage: 3.5 MB\n",
      "None\n"
     ]
    }
   ],
   "source": [
    "print(does_training.info())"
   ]
  },
  {
   "cell_type": "markdown",
   "metadata": {},
   "source": [
    "##### VARIABLE DESCRIPTIONS\n",
    "\n",
    "\n",
    "Race variables:\n",
    "\n",
    "\t1: Yes\n",
    "\t0: No\n",
    "\t9: Prefer not to disclose\n",
    "\n",
    "\n",
    "Gender: \n",
    "\n",
    "\t1: Male\n",
    "\t2: Female\n",
    "\t9: Prefer not to disclose\n",
    "\n",
    "Citizenship:\n",
    "\n",
    "\t1: Citizen of U.S. or Territory\n",
    "\t2: US Permanent Resident\n",
    "\t3: Alien/Refugee Lawfully Admitted to US\n",
    "\t4: None of the Above\n",
    "\n",
    "Education Level:\n",
    "\n",
    "\t0: No schooling\n",
    "\t1: 1st Grade\n",
    "\t2: 2nd Grade\n",
    "\t3: 3rd Grade\n",
    "\t4: 4th Grade\n",
    "\t5: 5th Grade\n",
    "\t6: 6th Grade\n",
    "\t7: 7th Grade\n",
    "\t8: 8th Grade\n",
    "\t9: 9th Grade\n",
    "\t10: 10th Grade\n",
    "\t11: 11th grade\n",
    "\t12: 12th grade no Diploma\n",
    "\t13: Attained GED or Equivalent\n",
    "\t14: Attained High School Diploma\n",
    "\t15: HS Grad and 1 year of College or a Technical or Vocational School\n",
    "\t16: HS Grad and 2 years of College or a Technical or Vocational School\n",
    "\t17: HS Grad and 3 years of College or a Technical or Vocational School\n",
    "\t18: Attained a postsecondary technical or vocational certificate (non-degree)\n",
    "\t19: Associate’s Degree\n",
    "\t20: Bachelor’s Degree or equivalent\n",
    "\t21: Attained degree beyond a Bachelor’s degree"
   ]
  },
  {
   "cell_type": "markdown",
   "metadata": {},
   "source": [
    "### Checking that your target variable is binary"
   ]
  },
  {
   "cell_type": "code",
   "execution_count": 12,
   "metadata": {},
   "outputs": [
    {
     "data": {
      "text/plain": [
       "<AxesSubplot:xlabel='Employed', ylabel='count'>"
      ]
     },
     "execution_count": 12,
     "metadata": {},
     "output_type": "execute_result"
    },
    {
     "data": {
      "image/png": "[encoded data removed]",
      "text/plain": [
       "<Figure size 360x288 with 1 Axes>"
      ]
     },
     "metadata": {},
     "output_type": "display_data"
    }
   ],
   "source": [
    "sb.countplot(x='Employed', data=does_training, palette='hls')"
   ]
  },
  {
   "cell_type": "markdown",
   "metadata": {},
   "source": [
    "### Checking for missing values"
   ]
  },
  {
   "cell_type": "code",
   "execution_count": 13,
   "metadata": {},
   "outputs": [
    {
     "data": {
      "text/plain": [
       "Age_AtReg               0\n",
       "Disability              0\n",
       "Gender                  0\n",
       "CitizenStatus           0\n",
       "EducationLevel          0\n",
       "Race_Hispanic           0\n",
       "Race_NativeAmerican     0\n",
       "Race_Asian              0\n",
       "Race_AfricanAmerican    0\n",
       "Race_PacificIslander    0\n",
       "Race_White              0\n",
       "Employed                0\n",
       "dtype: int64"
      ]
     },
     "execution_count": 13,
     "metadata": {},
     "output_type": "execute_result"
    }
   ],
   "source": [
    "does_training.isnull().sum()"
   ]
  },
  {
   "cell_type": "code",
   "execution_count": 14,
   "metadata": {},
   "outputs": [
    {
     "data": {
      "text/html": [
       "<div>\n",
       "<style scoped>\n",
       "    .dataframe tbody tr th:only-of-type {\n",
       "        vertical-align: middle;\n",
       "    }\n",
       "\n",
       "    .dataframe tbody tr th {\n",
       "        vertical-align: top;\n",
       "    }\n",
       "\n",
       "    .dataframe thead th {\n",
       "        text-align: right;\n",
       "    }\n",
       "</style>\n",
       "<table border=\"1\" class=\"dataframe\">\n",
       "  <thead>\n",
       "    <tr style=\"text-align: right;\">\n",
       "      <th></th>\n",
       "      <th>Age_AtReg</th>\n",
       "      <th>Disability</th>\n",
       "      <th>Gender</th>\n",
       "      <th>CitizenStatus</th>\n",
       "      <th>EducationLevel</th>\n",
       "      <th>Race_Hispanic</th>\n",
       "      <th>Race_NativeAmerican</th>\n",
       "      <th>Race_Asian</th>\n",
       "      <th>Race_AfricanAmerican</th>\n",
       "      <th>Race_PacificIslander</th>\n",
       "      <th>Race_White</th>\n",
       "      <th>Employed</th>\n",
       "    </tr>\n",
       "  </thead>\n",
       "  <tbody>\n",
       "    <tr>\n",
       "      <th>count</th>\n",
       "      <td>38263.000000</td>\n",
       "      <td>38263.000000</td>\n",
       "      <td>38263.000000</td>\n",
       "      <td>38263.000000</td>\n",
       "      <td>38263.000000</td>\n",
       "      <td>38263.000000</td>\n",
       "      <td>38263.000000</td>\n",
       "      <td>38263.000000</td>\n",
       "      <td>38263.000000</td>\n",
       "      <td>38263.000000</td>\n",
       "      <td>38263.000000</td>\n",
       "      <td>38263.000000</td>\n",
       "    </tr>\n",
       "    <tr>\n",
       "      <th>mean</th>\n",
       "      <td>35.537647</td>\n",
       "      <td>0.043515</td>\n",
       "      <td>1.450226</td>\n",
       "      <td>1.047409</td>\n",
       "      <td>14.735201</td>\n",
       "      <td>0.017693</td>\n",
       "      <td>0.014740</td>\n",
       "      <td>0.004757</td>\n",
       "      <td>0.867731</td>\n",
       "      <td>0.002091</td>\n",
       "      <td>0.026945</td>\n",
       "      <td>0.280950</td>\n",
       "    </tr>\n",
       "    <tr>\n",
       "      <th>std</th>\n",
       "      <td>13.070649</td>\n",
       "      <td>0.204015</td>\n",
       "      <td>0.499410</td>\n",
       "      <td>0.298709</td>\n",
       "      <td>3.630815</td>\n",
       "      <td>0.131836</td>\n",
       "      <td>0.120512</td>\n",
       "      <td>0.068804</td>\n",
       "      <td>0.338787</td>\n",
       "      <td>0.045678</td>\n",
       "      <td>0.161925</td>\n",
       "      <td>0.449469</td>\n",
       "    </tr>\n",
       "    <tr>\n",
       "      <th>min</th>\n",
       "      <td>0.000000</td>\n",
       "      <td>0.000000</td>\n",
       "      <td>0.000000</td>\n",
       "      <td>1.000000</td>\n",
       "      <td>0.000000</td>\n",
       "      <td>0.000000</td>\n",
       "      <td>0.000000</td>\n",
       "      <td>0.000000</td>\n",
       "      <td>0.000000</td>\n",
       "      <td>0.000000</td>\n",
       "      <td>0.000000</td>\n",
       "      <td>0.000000</td>\n",
       "    </tr>\n",
       "    <tr>\n",
       "      <th>25%</th>\n",
       "      <td>24.000000</td>\n",
       "      <td>0.000000</td>\n",
       "      <td>1.000000</td>\n",
       "      <td>1.000000</td>\n",
       "      <td>14.000000</td>\n",
       "      <td>0.000000</td>\n",
       "      <td>0.000000</td>\n",
       "      <td>0.000000</td>\n",
       "      <td>1.000000</td>\n",
       "      <td>0.000000</td>\n",
       "      <td>0.000000</td>\n",
       "      <td>0.000000</td>\n",
       "    </tr>\n",
       "    <tr>\n",
       "      <th>50%</th>\n",
       "      <td>33.000000</td>\n",
       "      <td>0.000000</td>\n",
       "      <td>1.000000</td>\n",
       "      <td>1.000000</td>\n",
       "      <td>14.000000</td>\n",
       "      <td>0.000000</td>\n",
       "      <td>0.000000</td>\n",
       "      <td>0.000000</td>\n",
       "      <td>1.000000</td>\n",
       "      <td>0.000000</td>\n",
       "      <td>0.000000</td>\n",
       "      <td>0.000000</td>\n",
       "    </tr>\n",
       "    <tr>\n",
       "      <th>75%</th>\n",
       "      <td>47.000000</td>\n",
       "      <td>0.000000</td>\n",
       "      <td>2.000000</td>\n",
       "      <td>1.000000</td>\n",
       "      <td>16.000000</td>\n",
       "      <td>0.000000</td>\n",
       "      <td>0.000000</td>\n",
       "      <td>0.000000</td>\n",
       "      <td>1.000000</td>\n",
       "      <td>0.000000</td>\n",
       "      <td>0.000000</td>\n",
       "      <td>1.000000</td>\n",
       "    </tr>\n",
       "    <tr>\n",
       "      <th>max</th>\n",
       "      <td>83.000000</td>\n",
       "      <td>1.000000</td>\n",
       "      <td>2.000000</td>\n",
       "      <td>4.000000</td>\n",
       "      <td>21.000000</td>\n",
       "      <td>1.000000</td>\n",
       "      <td>1.000000</td>\n",
       "      <td>1.000000</td>\n",
       "      <td>1.000000</td>\n",
       "      <td>1.000000</td>\n",
       "      <td>1.000000</td>\n",
       "      <td>1.000000</td>\n",
       "    </tr>\n",
       "  </tbody>\n",
       "</table>\n",
       "</div>"
      ],
      "text/plain": [
       "          Age_AtReg    Disability        Gender  CitizenStatus  \\\n",
       "count  38263.000000  38263.000000  38263.000000   38263.000000   \n",
       "mean      35.537647      0.043515      1.450226       1.047409   \n",
       "std       13.070649      0.204015      0.499410       0.298709   \n",
       "min        0.000000      0.000000      0.000000       1.000000   \n",
       "25%       24.000000      0.000000      1.000000       1.000000   \n",
       "50%       33.000000      0.000000      1.000000       1.000000   \n",
       "75%       47.000000      0.000000      2.000000       1.000000   \n",
       "max       83.000000      1.000000      2.000000       4.000000   \n",
       "\n",
       "       EducationLevel  Race_Hispanic  Race_NativeAmerican    Race_Asian  \\\n",
       "count    38263.000000   38263.000000         38263.000000  38263.000000   \n",
       "mean        14.735201       0.017693             0.014740      0.004757   \n",
       "std          3.630815       0.131836             0.120512      0.068804   \n",
       "min          0.000000       0.000000             0.000000      0.000000   \n",
       "25%         14.000000       0.000000             0.000000      0.000000   \n",
       "50%         14.000000       0.000000             0.000000      0.000000   \n",
       "75%         16.000000       0.000000             0.000000      0.000000   \n",
       "max         21.000000       1.000000             1.000000      1.000000   \n",
       "\n",
       "       Race_AfricanAmerican  Race_PacificIslander    Race_White      Employed  \n",
       "count          38263.000000          38263.000000  38263.000000  38263.000000  \n",
       "mean               0.867731              0.002091      0.026945      0.280950  \n",
       "std                0.338787              0.045678      0.161925      0.449469  \n",
       "min                0.000000              0.000000      0.000000      0.000000  \n",
       "25%                1.000000              0.000000      0.000000      0.000000  \n",
       "50%                1.000000              0.000000      0.000000      0.000000  \n",
       "75%                1.000000              0.000000      0.000000      1.000000  \n",
       "max                1.000000              1.000000      1.000000      1.000000  "
      ]
     },
     "execution_count": 14,
     "metadata": {},
     "output_type": "execute_result"
    }
   ],
   "source": [
    "does_training.describe()"
   ]
  },
  {
   "cell_type": "code",
   "execution_count": 15,
   "metadata": {},
   "outputs": [
    {
     "data": {
      "text/html": [
       "<div>\n",
       "<style scoped>\n",
       "    .dataframe tbody tr th:only-of-type {\n",
       "        vertical-align: middle;\n",
       "    }\n",
       "\n",
       "    .dataframe tbody tr th {\n",
       "        vertical-align: top;\n",
       "    }\n",
       "\n",
       "    .dataframe thead th {\n",
       "        text-align: right;\n",
       "    }\n",
       "</style>\n",
       "<table border=\"1\" class=\"dataframe\">\n",
       "  <thead>\n",
       "    <tr style=\"text-align: right;\">\n",
       "      <th></th>\n",
       "      <th>Age_AtReg</th>\n",
       "      <th>Disability</th>\n",
       "      <th>Gender</th>\n",
       "      <th>CitizenStatus</th>\n",
       "      <th>EducationLevel</th>\n",
       "      <th>Race_Hispanic</th>\n",
       "      <th>Race_NativeAmerican</th>\n",
       "      <th>Race_Asian</th>\n",
       "      <th>Race_AfricanAmerican</th>\n",
       "      <th>Race_PacificIslander</th>\n",
       "      <th>Race_White</th>\n",
       "      <th>Employed</th>\n",
       "    </tr>\n",
       "  </thead>\n",
       "  <tbody>\n",
       "    <tr>\n",
       "      <th>0</th>\n",
       "      <td>40</td>\n",
       "      <td>0</td>\n",
       "      <td>1</td>\n",
       "      <td>1</td>\n",
       "      <td>11</td>\n",
       "      <td>0</td>\n",
       "      <td>0</td>\n",
       "      <td>0</td>\n",
       "      <td>0</td>\n",
       "      <td>0</td>\n",
       "      <td>0</td>\n",
       "      <td>1</td>\n",
       "    </tr>\n",
       "    <tr>\n",
       "      <th>1</th>\n",
       "      <td>40</td>\n",
       "      <td>0</td>\n",
       "      <td>1</td>\n",
       "      <td>1</td>\n",
       "      <td>11</td>\n",
       "      <td>0</td>\n",
       "      <td>0</td>\n",
       "      <td>0</td>\n",
       "      <td>0</td>\n",
       "      <td>0</td>\n",
       "      <td>0</td>\n",
       "      <td>1</td>\n",
       "    </tr>\n",
       "    <tr>\n",
       "      <th>2</th>\n",
       "      <td>50</td>\n",
       "      <td>0</td>\n",
       "      <td>1</td>\n",
       "      <td>1</td>\n",
       "      <td>14</td>\n",
       "      <td>0</td>\n",
       "      <td>0</td>\n",
       "      <td>0</td>\n",
       "      <td>1</td>\n",
       "      <td>0</td>\n",
       "      <td>0</td>\n",
       "      <td>0</td>\n",
       "    </tr>\n",
       "    <tr>\n",
       "      <th>3</th>\n",
       "      <td>50</td>\n",
       "      <td>0</td>\n",
       "      <td>1</td>\n",
       "      <td>1</td>\n",
       "      <td>14</td>\n",
       "      <td>0</td>\n",
       "      <td>0</td>\n",
       "      <td>0</td>\n",
       "      <td>1</td>\n",
       "      <td>0</td>\n",
       "      <td>0</td>\n",
       "      <td>0</td>\n",
       "    </tr>\n",
       "    <tr>\n",
       "      <th>4</th>\n",
       "      <td>53</td>\n",
       "      <td>0</td>\n",
       "      <td>1</td>\n",
       "      <td>1</td>\n",
       "      <td>14</td>\n",
       "      <td>0</td>\n",
       "      <td>0</td>\n",
       "      <td>0</td>\n",
       "      <td>1</td>\n",
       "      <td>0</td>\n",
       "      <td>0</td>\n",
       "      <td>0</td>\n",
       "    </tr>\n",
       "  </tbody>\n",
       "</table>\n",
       "</div>"
      ],
      "text/plain": [
       "   Age_AtReg  Disability  Gender  CitizenStatus  EducationLevel  \\\n",
       "0         40           0       1              1              11   \n",
       "1         40           0       1              1              11   \n",
       "2         50           0       1              1              14   \n",
       "3         50           0       1              1              14   \n",
       "4         53           0       1              1              14   \n",
       "\n",
       "   Race_Hispanic  Race_NativeAmerican  Race_Asian  Race_AfricanAmerican  \\\n",
       "0              0                    0           0                     0   \n",
       "1              0                    0           0                     0   \n",
       "2              0                    0           0                     1   \n",
       "3              0                    0           0                     1   \n",
       "4              0                    0           0                     1   \n",
       "\n",
       "   Race_PacificIslander  Race_White  Employed  \n",
       "0                     0           0         1  \n",
       "1                     0           0         1  \n",
       "2                     0           0         0  \n",
       "3                     0           0         0  \n",
       "4                     0           0         0  "
      ]
     },
     "execution_count": 15,
     "metadata": {},
     "output_type": "execute_result"
    }
   ],
   "source": [
    "does_training.head()"
   ]
  },
  {
   "cell_type": "markdown",
   "metadata": {},
   "source": [
    "### Imputing missing values"
   ]
  },
  {
   "cell_type": "code",
   "execution_count": 16,
   "metadata": {},
   "outputs": [
    {
     "data": {
      "text/plain": [
       "<AxesSubplot:xlabel='Gender', ylabel='Age_AtReg'>"
      ]
     },
     "execution_count": 16,
     "metadata": {},
     "output_type": "execute_result"
    },
    {
     "data": {
      "image/png": "[encoded data removed]",
      "text/plain": [
       "<Figure size 360x288 with 1 Axes>"
      ]
     },
     "metadata": {},
     "output_type": "display_data"
    }
   ],
   "source": [
    "sb.boxplot(x='Gender', y='Age_AtReg', data=does_training, palette='hls')"
   ]
  },
  {
   "cell_type": "code",
   "execution_count": 17,
   "metadata": {},
   "outputs": [
    {
     "data": {
      "text/html": [
       "<div>\n",
       "<style scoped>\n",
       "    .dataframe tbody tr th:only-of-type {\n",
       "        vertical-align: middle;\n",
       "    }\n",
       "\n",
       "    .dataframe tbody tr th {\n",
       "        vertical-align: top;\n",
       "    }\n",
       "\n",
       "    .dataframe thead th {\n",
       "        text-align: right;\n",
       "    }\n",
       "</style>\n",
       "<table border=\"1\" class=\"dataframe\">\n",
       "  <thead>\n",
       "    <tr style=\"text-align: right;\">\n",
       "      <th></th>\n",
       "      <th>Age_AtReg</th>\n",
       "      <th>Disability</th>\n",
       "      <th>CitizenStatus</th>\n",
       "      <th>EducationLevel</th>\n",
       "      <th>Race_Hispanic</th>\n",
       "      <th>Race_NativeAmerican</th>\n",
       "      <th>Race_Asian</th>\n",
       "      <th>Race_AfricanAmerican</th>\n",
       "      <th>Race_PacificIslander</th>\n",
       "      <th>Race_White</th>\n",
       "      <th>Employed</th>\n",
       "    </tr>\n",
       "    <tr>\n",
       "      <th>Gender</th>\n",
       "      <th></th>\n",
       "      <th></th>\n",
       "      <th></th>\n",
       "      <th></th>\n",
       "      <th></th>\n",
       "      <th></th>\n",
       "      <th></th>\n",
       "      <th></th>\n",
       "      <th></th>\n",
       "      <th></th>\n",
       "      <th></th>\n",
       "    </tr>\n",
       "  </thead>\n",
       "  <tbody>\n",
       "    <tr>\n",
       "      <th>0</th>\n",
       "      <td>35.000000</td>\n",
       "      <td>0.083333</td>\n",
       "      <td>1.277778</td>\n",
       "      <td>16.833333</td>\n",
       "      <td>0.111111</td>\n",
       "      <td>0.111111</td>\n",
       "      <td>0.000000</td>\n",
       "      <td>0.305556</td>\n",
       "      <td>0.000000</td>\n",
       "      <td>0.027778</td>\n",
       "      <td>0.166667</td>\n",
       "    </tr>\n",
       "    <tr>\n",
       "      <th>1</th>\n",
       "      <td>36.052662</td>\n",
       "      <td>0.047176</td>\n",
       "      <td>1.048178</td>\n",
       "      <td>14.361286</td>\n",
       "      <td>0.015884</td>\n",
       "      <td>0.013165</td>\n",
       "      <td>0.004102</td>\n",
       "      <td>0.881320</td>\n",
       "      <td>0.001908</td>\n",
       "      <td>0.024948</td>\n",
       "      <td>0.264501</td>\n",
       "    </tr>\n",
       "    <tr>\n",
       "      <th>2</th>\n",
       "      <td>34.913341</td>\n",
       "      <td>0.038985</td>\n",
       "      <td>1.045994</td>\n",
       "      <td>15.184904</td>\n",
       "      <td>0.019695</td>\n",
       "      <td>0.016451</td>\n",
       "      <td>0.005561</td>\n",
       "      <td>0.852401</td>\n",
       "      <td>0.002317</td>\n",
       "      <td>0.029369</td>\n",
       "      <td>0.301164</td>\n",
       "    </tr>\n",
       "  </tbody>\n",
       "</table>\n",
       "</div>"
      ],
      "text/plain": [
       "        Age_AtReg  Disability  CitizenStatus  EducationLevel  Race_Hispanic  \\\n",
       "Gender                                                                        \n",
       "0       35.000000    0.083333       1.277778       16.833333       0.111111   \n",
       "1       36.052662    0.047176       1.048178       14.361286       0.015884   \n",
       "2       34.913341    0.038985       1.045994       15.184904       0.019695   \n",
       "\n",
       "        Race_NativeAmerican  Race_Asian  Race_AfricanAmerican  \\\n",
       "Gender                                                          \n",
       "0                  0.111111    0.000000              0.305556   \n",
       "1                  0.013165    0.004102              0.881320   \n",
       "2                  0.016451    0.005561              0.852401   \n",
       "\n",
       "        Race_PacificIslander  Race_White  Employed  \n",
       "Gender                                              \n",
       "0                   0.000000    0.027778  0.166667  \n",
       "1                   0.001908    0.024948  0.264501  \n",
       "2                   0.002317    0.029369  0.301164  "
      ]
     },
     "execution_count": 17,
     "metadata": {},
     "output_type": "execute_result"
    }
   ],
   "source": [
    "Gender_groups = does_training.groupby(does_training['Gender'])\n",
    "Gender_groups.mean()"
   ]
  },
  {
   "cell_type": "markdown",
   "metadata": {},
   "source": [
    "### Checking for independence between features"
   ]
  },
  {
   "cell_type": "code",
   "execution_count": 18,
   "metadata": {},
   "outputs": [
    {
     "data": {
      "text/plain": [
       "<AxesSubplot:>"
      ]
     },
     "execution_count": 18,
     "metadata": {},
     "output_type": "execute_result"
    },
    {
     "data": {
      "image/png": "[encoded data removed]",
      "text/plain": [
       "<Figure size 360x288 with 2 Axes>"
      ]
     },
     "metadata": {},
     "output_type": "display_data"
    }
   ],
   "source": [
    "sb.heatmap(does_training.corr())"
   ]
  },
  {
   "cell_type": "markdown",
   "metadata": {},
   "source": [
    "### Checking that your dataset size is sufficient"
   ]
  },
  {
   "cell_type": "code",
   "execution_count": 19,
   "metadata": {},
   "outputs": [
    {
     "name": "stdout",
     "output_type": "stream",
     "text": [
      "<class 'pandas.core.frame.DataFrame'>\n",
      "RangeIndex: 38263 entries, 0 to 38262\n",
      "Data columns (total 12 columns):\n",
      " #   Column                Non-Null Count  Dtype\n",
      "---  ------                --------------  -----\n",
      " 0   Age_AtReg             38263 non-null  int64\n",
      " 1   Disability            38263 non-null  int64\n",
      " 2   Gender                38263 non-null  int64\n",
      " 3   CitizenStatus         38263 non-null  int64\n",
      " 4   EducationLevel        38263 non-null  int64\n",
      " 5   Race_Hispanic         38263 non-null  int64\n",
      " 6   Race_NativeAmerican   38263 non-null  int64\n",
      " 7   Race_Asian            38263 non-null  int64\n",
      " 8   Race_AfricanAmerican  38263 non-null  int64\n",
      " 9   Race_PacificIslander  38263 non-null  int64\n",
      " 10  Race_White            38263 non-null  int64\n",
      " 11  Employed              38263 non-null  int64\n",
      "dtypes: int64(12)\n",
      "memory usage: 3.5 MB\n"
     ]
    }
   ],
   "source": [
    "does_training.info()"
   ]
  },
  {
   "cell_type": "code",
   "execution_count": 20,
   "metadata": {},
   "outputs": [],
   "source": [
    "X_train, X_test, y_train, y_test = train_test_split(does_training.drop('Employed', axis=1),\n",
    "                                                   does_training['Employed'], test_size=0.2,\n",
    "                                                   random_state=200)"
   ]
  },
  {
   "cell_type": "code",
   "execution_count": 21,
   "metadata": {},
   "outputs": [
    {
     "name": "stdout",
     "output_type": "stream",
     "text": [
      "(30610, 11)\n",
      "(30610,)\n"
     ]
    }
   ],
   "source": [
    "print(X_train.shape)\n",
    "print(y_train.shape)"
   ]
  },
  {
   "cell_type": "code",
   "execution_count": 22,
   "metadata": {},
   "outputs": [
    {
     "data": {
      "text/html": [
       "<div>\n",
       "<style scoped>\n",
       "    .dataframe tbody tr th:only-of-type {\n",
       "        vertical-align: middle;\n",
       "    }\n",
       "\n",
       "    .dataframe tbody tr th {\n",
       "        vertical-align: top;\n",
       "    }\n",
       "\n",
       "    .dataframe thead th {\n",
       "        text-align: right;\n",
       "    }\n",
       "</style>\n",
       "<table border=\"1\" class=\"dataframe\">\n",
       "  <thead>\n",
       "    <tr style=\"text-align: right;\">\n",
       "      <th></th>\n",
       "      <th>Age_AtReg</th>\n",
       "      <th>Disability</th>\n",
       "      <th>Gender</th>\n",
       "      <th>CitizenStatus</th>\n",
       "      <th>EducationLevel</th>\n",
       "      <th>Race_Hispanic</th>\n",
       "      <th>Race_NativeAmerican</th>\n",
       "      <th>Race_Asian</th>\n",
       "      <th>Race_AfricanAmerican</th>\n",
       "      <th>Race_PacificIslander</th>\n",
       "      <th>Race_White</th>\n",
       "    </tr>\n",
       "  </thead>\n",
       "  <tbody>\n",
       "    <tr>\n",
       "      <th>16323</th>\n",
       "      <td>55</td>\n",
       "      <td>0</td>\n",
       "      <td>2</td>\n",
       "      <td>1</td>\n",
       "      <td>18</td>\n",
       "      <td>0</td>\n",
       "      <td>0</td>\n",
       "      <td>0</td>\n",
       "      <td>1</td>\n",
       "      <td>0</td>\n",
       "      <td>0</td>\n",
       "    </tr>\n",
       "    <tr>\n",
       "      <th>4188</th>\n",
       "      <td>50</td>\n",
       "      <td>0</td>\n",
       "      <td>2</td>\n",
       "      <td>1</td>\n",
       "      <td>14</td>\n",
       "      <td>0</td>\n",
       "      <td>0</td>\n",
       "      <td>0</td>\n",
       "      <td>1</td>\n",
       "      <td>0</td>\n",
       "      <td>0</td>\n",
       "    </tr>\n",
       "    <tr>\n",
       "      <th>26785</th>\n",
       "      <td>51</td>\n",
       "      <td>0</td>\n",
       "      <td>1</td>\n",
       "      <td>1</td>\n",
       "      <td>14</td>\n",
       "      <td>0</td>\n",
       "      <td>0</td>\n",
       "      <td>0</td>\n",
       "      <td>1</td>\n",
       "      <td>0</td>\n",
       "      <td>0</td>\n",
       "    </tr>\n",
       "    <tr>\n",
       "      <th>10109</th>\n",
       "      <td>27</td>\n",
       "      <td>0</td>\n",
       "      <td>1</td>\n",
       "      <td>1</td>\n",
       "      <td>13</td>\n",
       "      <td>0</td>\n",
       "      <td>0</td>\n",
       "      <td>0</td>\n",
       "      <td>1</td>\n",
       "      <td>0</td>\n",
       "      <td>0</td>\n",
       "    </tr>\n",
       "    <tr>\n",
       "      <th>23687</th>\n",
       "      <td>46</td>\n",
       "      <td>0</td>\n",
       "      <td>1</td>\n",
       "      <td>1</td>\n",
       "      <td>13</td>\n",
       "      <td>0</td>\n",
       "      <td>0</td>\n",
       "      <td>0</td>\n",
       "      <td>1</td>\n",
       "      <td>0</td>\n",
       "      <td>0</td>\n",
       "    </tr>\n",
       "  </tbody>\n",
       "</table>\n",
       "</div>"
      ],
      "text/plain": [
       "       Age_AtReg  Disability  Gender  CitizenStatus  EducationLevel  \\\n",
       "16323         55           0       2              1              18   \n",
       "4188          50           0       2              1              14   \n",
       "26785         51           0       1              1              14   \n",
       "10109         27           0       1              1              13   \n",
       "23687         46           0       1              1              13   \n",
       "\n",
       "       Race_Hispanic  Race_NativeAmerican  Race_Asian  Race_AfricanAmerican  \\\n",
       "16323              0                    0           0                     1   \n",
       "4188               0                    0           0                     1   \n",
       "26785              0                    0           0                     1   \n",
       "10109              0                    0           0                     1   \n",
       "23687              0                    0           0                     1   \n",
       "\n",
       "       Race_PacificIslander  Race_White  \n",
       "16323                     0           0  \n",
       "4188                      0           0  \n",
       "26785                     0           0  \n",
       "10109                     0           0  \n",
       "23687                     0           0  "
      ]
     },
     "execution_count": 22,
     "metadata": {},
     "output_type": "execute_result"
    }
   ],
   "source": [
    "X_train[0:5]"
   ]
  },
  {
   "cell_type": "markdown",
   "metadata": {},
   "source": [
    "### Deploying and evaluating the model"
   ]
  },
  {
   "cell_type": "code",
   "execution_count": 23,
   "metadata": {},
   "outputs": [
    {
     "data": {
      "text/plain": [
       "LogisticRegression(solver='liblinear')"
      ]
     },
     "execution_count": 23,
     "metadata": {},
     "output_type": "execute_result"
    }
   ],
   "source": [
    "LogReg = LogisticRegression(solver='liblinear')\n",
    "LogReg.fit(X_train, y_train)"
   ]
  },
  {
   "cell_type": "code",
   "execution_count": 24,
   "metadata": {},
   "outputs": [],
   "source": [
    "y_pred = LogReg.predict(X_test)"
   ]
  },
  {
   "cell_type": "markdown",
   "metadata": {},
   "source": [
    "## Model Evaluation\n",
    "### Classification report without cross-validation"
   ]
  },
  {
   "cell_type": "code",
   "execution_count": 25,
   "metadata": {},
   "outputs": [
    {
     "name": "stdout",
     "output_type": "stream",
     "text": [
      "              precision    recall  f1-score   support\n",
      "\n",
      "           0       0.71      1.00      0.83      5439\n",
      "           1       0.00      0.00      0.00      2214\n",
      "\n",
      "    accuracy                           0.71      7653\n",
      "   macro avg       0.36      0.50      0.42      7653\n",
      "weighted avg       0.51      0.71      0.59      7653\n",
      "\n"
     ]
    },
    {
     "name": "stderr",
     "output_type": "stream",
     "text": [
      "C:\\Users\\drewn\\anaconda3\\lib\\site-packages\\sklearn\\metrics\\_classification.py:1221: UndefinedMetricWarning: Precision and F-score are ill-defined and being set to 0.0 in labels with no predicted samples. Use `zero_division` parameter to control this behavior.\n",
      "  _warn_prf(average, modifier, msg_start, len(result))\n"
     ]
    }
   ],
   "source": [
    "print(classification_report(y_test, y_pred))"
   ]
  },
  {
   "cell_type": "markdown",
   "metadata": {},
   "source": [
    "### K-fold cross-validation & confusion matrices"
   ]
  },
  {
   "cell_type": "code",
   "execution_count": 26,
   "metadata": {},
   "outputs": [
    {
     "data": {
      "text/plain": [
       "array([[22074,     0],\n",
       "       [ 8536,     0]], dtype=int64)"
      ]
     },
     "execution_count": 26,
     "metadata": {},
     "output_type": "execute_result"
    }
   ],
   "source": [
    "y_train_pred = cross_val_predict(LogReg, X_train, y_train, cv=5)\n",
    "confusion_matrix(y_train, y_train_pred)"
   ]
  },
  {
   "cell_type": "code",
   "execution_count": 27,
   "metadata": {},
   "outputs": [
    {
     "name": "stderr",
     "output_type": "stream",
     "text": [
      "C:\\Users\\drewn\\anaconda3\\lib\\site-packages\\sklearn\\metrics\\_classification.py:1221: UndefinedMetricWarning: Precision is ill-defined and being set to 0.0 due to no predicted samples. Use `zero_division` parameter to control this behavior.\n",
      "  _warn_prf(average, modifier, msg_start, len(result))\n"
     ]
    },
    {
     "data": {
      "text/plain": [
       "0.0"
      ]
     },
     "execution_count": 27,
     "metadata": {},
     "output_type": "execute_result"
    }
   ],
   "source": [
    "precision_score(y_train, y_train_pred)"
   ]
  },
  {
   "cell_type": "markdown",
   "metadata": {},
   "source": [
    "### Make a test prediction"
   ]
  },
  {
   "cell_type": "code",
   "execution_count": 28,
   "metadata": {
    "scrolled": true
   },
   "outputs": [
    {
     "data": {
      "text/html": [
       "<div>\n",
       "<style scoped>\n",
       "    .dataframe tbody tr th:only-of-type {\n",
       "        vertical-align: middle;\n",
       "    }\n",
       "\n",
       "    .dataframe tbody tr th {\n",
       "        vertical-align: top;\n",
       "    }\n",
       "\n",
       "    .dataframe thead th {\n",
       "        text-align: right;\n",
       "    }\n",
       "</style>\n",
       "<table border=\"1\" class=\"dataframe\">\n",
       "  <thead>\n",
       "    <tr style=\"text-align: right;\">\n",
       "      <th></th>\n",
       "      <th>Age_AtReg</th>\n",
       "      <th>Disability</th>\n",
       "      <th>Gender</th>\n",
       "      <th>CitizenStatus</th>\n",
       "      <th>EducationLevel</th>\n",
       "      <th>Race_Hispanic</th>\n",
       "      <th>Race_NativeAmerican</th>\n",
       "      <th>Race_Asian</th>\n",
       "      <th>Race_AfricanAmerican</th>\n",
       "      <th>Race_PacificIslander</th>\n",
       "      <th>Race_White</th>\n",
       "      <th>Employed</th>\n",
       "    </tr>\n",
       "  </thead>\n",
       "  <tbody>\n",
       "    <tr>\n",
       "      <th>863</th>\n",
       "      <td>44</td>\n",
       "      <td>1</td>\n",
       "      <td>1</td>\n",
       "      <td>1</td>\n",
       "      <td>16</td>\n",
       "      <td>0</td>\n",
       "      <td>0</td>\n",
       "      <td>0</td>\n",
       "      <td>1</td>\n",
       "      <td>0</td>\n",
       "      <td>0</td>\n",
       "      <td>0</td>\n",
       "    </tr>\n",
       "  </tbody>\n",
       "</table>\n",
       "</div>"
      ],
      "text/plain": [
       "     Age_AtReg  Disability  Gender  CitizenStatus  EducationLevel  \\\n",
       "863         44           1       1              1              16   \n",
       "\n",
       "     Race_Hispanic  Race_NativeAmerican  Race_Asian  Race_AfricanAmerican  \\\n",
       "863              0                    0           0                     1   \n",
       "\n",
       "     Race_PacificIslander  Race_White  Employed  \n",
       "863                     0           0         0  "
      ]
     },
     "execution_count": 28,
     "metadata": {},
     "output_type": "execute_result"
    }
   ],
   "source": [
    "does_training[863:864]"
   ]
  },
  {
   "cell_type": "code",
   "execution_count": 29,
   "metadata": {},
   "outputs": [
    {
     "name": "stdout",
     "output_type": "stream",
     "text": [
      "[0]\n",
      "[[0.74318461 0.25681539]]\n"
     ]
    }
   ],
   "source": [
    "# test_customer = np.array([29, 0, 1, 1, 20, 0, 0, 1, 0, 0, 0]).reshape(1,-1)\n",
    "test_customer = np.array([45, 0, 1, 1, 14, 0, 0, 0, 1, 0, 0]).reshape(1,-1)\n",
    "\n",
    "print(LogReg.predict(test_customer))\n",
    "print(LogReg.predict_proba(test_customer))"
   ]
  },
  {
   "cell_type": "code",
   "execution_count": null,
   "metadata": {},
   "outputs": [],
   "source": []
  }
 ],
 "metadata": {
  "kernelspec": {
   "display_name": "Python 3",
   "language": "python",
   "name": "python3"
  },
  "language_info": {
   "codemirror_mode": {
    "name": "ipython",
    "version": 3
   },
   "file_extension": ".py",
   "mimetype": "text/x-python",
   "name": "python",
   "nbconvert_exporter": "python",
   "pygments_lexer": "ipython3",
   "version": "3.8.5"
  }
 },
 "nbformat": 4,
 "nbformat_minor": 1
}
